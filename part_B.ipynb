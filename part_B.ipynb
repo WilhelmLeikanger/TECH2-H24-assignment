{
 "cells": [
  {
   "cell_type": "code",
   "execution_count": 1,
   "id": "29adc105-92df-4816-9b71-ed9df0773888",
   "metadata": {
    "scrolled": true
   },
   "outputs": [
    {
     "name": "stdout",
     "output_type": "stream",
     "text": [
      "20.8 μs ± 222 ns per loop (mean ± std. dev. of 7 runs, 10,000 loops each)\n",
      "40.4 μs ± 3.2 μs per loop (mean ± std. dev. of 7 runs, 10,000 loops each)\n",
      "43.6 μs ± 1.32 μs per loop (mean ± std. dev. of 7 runs, 10,000 loops each)\n",
      "----\n",
      "58.4 μs ± 1.21 μs per loop (mean ± std. dev. of 7 runs, 10,000 loops each)\n",
      "391 μs ± 16 μs per loop (mean ± std. dev. of 7 runs, 1,000 loops each)\n",
      "536 μs ± 213 μs per loop (mean ± std. dev. of 7 runs, 1,000 loops each)\n",
      "----\n",
      "664 μs ± 287 μs per loop (mean ± std. dev. of 7 runs, 1,000 loops each)\n",
      "4.32 ms ± 970 μs per loop (mean ± std. dev. of 7 runs, 100 loops each)\n",
      "4.31 ms ± 406 μs per loop (mean ± std. dev. of 7 runs, 100 loops each)\n"
     ]
    }
   ],
   "source": [
    "import csv\n",
    "import numpy as np\n",
    "\n",
    "# Step 1: Load the CSV file\n",
    "with open('data.csv', mode='r') as file:\n",
    "    reader = csv.reader(file)\n",
    "    data = list(reader)\n",
    "\n",
    "# Convert strings to floats, and filter out empty strings or invalid values\n",
    "def floatit(column_index, data):\n",
    "    result = []\n",
    "    for row in data:\n",
    "        try:\n",
    "            value = float(row[column_index])\n",
    "            result.append(value)\n",
    "        except ValueError:\n",
    "            # Skip rows with invalid or missing values\n",
    "            pass\n",
    "    return result\n",
    "\n",
    "column_1 = floatit(0, data)\n",
    "column_2 = floatit(1, data)\n",
    "column_3 = floatit(2, data)\n",
    "\n",
    "\n",
    "\n",
    "# Step 2: Define functions for standard deviation\n",
    "\n",
    "# Method 1: NumPy std\n",
    "def numpy_std(data):\n",
    "    return np.std(data)\n",
    "\n",
    "\n",
    "# Method 2: Manual calculation\n",
    "def std_loops(x):\n",
    "    xsum = 0\n",
    "    xsquares = 0\n",
    "    a = 0\n",
    "    for i in x:\n",
    "        xsum +=i\n",
    "        xsquares += i ** 2\n",
    "        a += 1\n",
    "    xmean = xsum / a\n",
    "    xmeansquares = xsquares / a\n",
    "    variance = xmeansquares - (xmean ** 2)\n",
    "    deviation = variance ** 0.5\n",
    "    return deviation\n",
    "\n",
    "\n",
    "# Method 3: Custom calculation using built-in functions\n",
    "def std_builtin(x):\n",
    "    xsum = sum(i for i in x)\n",
    "    xsquares = sum(i ** 2 for i in x)\n",
    "    xmean = xsum / len(x)\n",
    "    xmeansquares = xsquares / len(x)\n",
    "    variance = xmeansquares - xmean ** 2\n",
    "    deviation = variance ** 0.5\n",
    "    return deviation\n",
    "\n",
    "# Step 3: Time the execution\n",
    "# Assuming you're using Jupyter Notebook\n",
    "%timeit numpy_std(column_1)\n",
    "%timeit std_loops(column_1)\n",
    "%timeit std_builtin(column_1)\n",
    "print(\"----\")\n",
    "%timeit numpy_std(column_2)\n",
    "%timeit std_loops(column_2)\n",
    "%timeit std_builtin(column_2)\n",
    "print(\"----\")\n",
    "%timeit numpy_std(column_3)\n",
    "%timeit std_loops(column_3)\n",
    "%timeit std_builtin(column_3)\n"
   ]
  },
  {
   "cell_type": "code",
   "execution_count": null,
   "id": "5d0df7b9-a50a-4e97-b759-df0b2460adfd",
   "metadata": {},
   "outputs": [],
   "source": []
  }
 ],
 "metadata": {
  "kernelspec": {
   "display_name": "Python 3 (ipykernel)",
   "language": "python",
   "name": "python3"
  },
  "language_info": {
   "codemirror_mode": {
    "name": "ipython",
    "version": 3
   },
   "file_extension": ".py",
   "mimetype": "text/x-python",
   "name": "python",
   "nbconvert_exporter": "python",
   "pygments_lexer": "ipython3",
   "version": "3.12.4"
  }
 },
 "nbformat": 4,
 "nbformat_minor": 5
}
